{
 "cells": [
  {
   "cell_type": "code",
   "execution_count": 1,
   "metadata": {},
   "outputs": [],
   "source": [
    "import gym\n",
    "import numpy as np\n",
    "import time\n",
    "import  PIL\n",
    "import os\n",
    "from PIL import Image\n",
    "from utils import *\n",
    "%load_ext autoreload\n",
    "%autoreload 2"
   ]
  },
  {
   "cell_type": "code",
   "execution_count": 3,
   "metadata": {},
   "outputs": [
    {
     "data": {
      "text/plain": [
       "[<matplotlib.lines.Line2D at 0x19ffb9a3ef0>]"
      ]
     },
     "execution_count": 3,
     "metadata": {},
     "output_type": "execute_result"
    },
    {
     "data": {
      "image/png": "[encoded data removed]",
      "text/plain": [
       "<Figure size 432x288 with 1 Axes>"
      ]
     },
     "metadata": {
      "needs_background": "light"
     },
     "output_type": "display_data"
    }
   ],
   "source": [
    "plt.plot([1132, 2435, 3453, 4352, 5678], [2,4,6,8,10])"
   ]
  },
  {
   "cell_type": "code",
   "execution_count": null,
   "metadata": {},
   "outputs": [],
   "source": []
  },
  {
   "cell_type": "code",
   "execution_count": null,
   "metadata": {},
   "outputs": [],
   "source": []
  },
  {
   "cell_type": "code",
   "execution_count": 2,
   "metadata": {},
   "outputs": [
    {
     "data": {
      "text/plain": [
       "{'epsilon': 0.0001}"
      ]
     },
     "execution_count": 2,
     "metadata": {},
     "output_type": "execute_result"
    }
   ],
   "source": [
    "dict(epsilon=1e-4)"
   ]
  },
  {
   "cell_type": "code",
   "execution_count": null,
   "metadata": {},
   "outputs": [],
   "source": []
  },
  {
   "cell_type": "code",
   "execution_count": 2,
   "metadata": {},
   "outputs": [],
   "source": [
    "a =np.load('./results/reward_his.npy')"
   ]
  },
  {
   "cell_type": "code",
   "execution_count": 24,
   "metadata": {},
   "outputs": [],
   "source": [
    "step_count = 1500001\n",
    "\n",
    "learning_rate = linear_decay(step_count - 6000000/5 + 1, start = 1e-4, \n",
    "                                                     end = 5e-5, frame = 0.4*6000000)"
   ]
  },
  {
   "cell_type": "code",
   "execution_count": 25,
   "metadata": {},
   "outputs": [
    {
     "data": {
      "text/plain": [
       "9.374993489580621e-05"
      ]
     },
     "execution_count": 25,
     "metadata": {},
     "output_type": "execute_result"
    }
   ],
   "source": [
    "learning_rate"
   ]
  },
  {
   "cell_type": "code",
   "execution_count": null,
   "metadata": {},
   "outputs": [],
   "source": []
  },
  {
   "cell_type": "code",
   "execution_count": null,
   "metadata": {},
   "outputs": [],
   "source": []
  },
  {
   "cell_type": "code",
   "execution_count": 61,
   "metadata": {},
   "outputs": [
    {
     "data": {
      "text/plain": [
       "array([[1., 1., 1.],\n",
       "       [1., 1., 1.],\n",
       "       [1., 1., 1.],\n",
       "       [1., 1., 1.],\n",
       "       [1., 1., 1.]])"
      ]
     },
     "execution_count": 61,
     "metadata": {},
     "output_type": "execute_result"
    }
   ],
   "source": [
    "a = np.ones((5,1))\n",
    "b= np.ones((5,1))\n",
    "c = np.hstack((a,b))\n",
    "np.hstack((c,b))"
   ]
  },
  {
   "cell_type": "code",
   "execution_count": null,
   "metadata": {},
   "outputs": [],
   "source": []
  },
  {
   "cell_type": "code",
   "execution_count": 55,
   "metadata": {},
   "outputs": [
    {
     "ename": "NameError",
     "evalue": "name 's' is not defined",
     "output_type": "error",
     "traceback": [
      "\u001b[1;31m---------------------------------------------------------------------------\u001b[0m",
      "\u001b[1;31mNameError\u001b[0m                                 Traceback (most recent call last)",
      "\u001b[1;32m<ipython-input-55-48bd4375bd75>\u001b[0m in \u001b[0;36m<module>\u001b[1;34m\u001b[0m\n\u001b[1;32m----> 1\u001b[1;33m \u001b[0mresized_screen\u001b[0m \u001b[1;33m=\u001b[0m \u001b[0mcv2\u001b[0m\u001b[1;33m.\u001b[0m\u001b[0mresize\u001b[0m\u001b[1;33m(\u001b[0m\u001b[0ms\u001b[0m\u001b[1;33m,\u001b[0m \u001b[1;33m(\u001b[0m\u001b[1;36m84\u001b[0m\u001b[1;33m,\u001b[0m \u001b[1;36m110\u001b[0m\u001b[1;33m)\u001b[0m\u001b[1;33m,\u001b[0m  \u001b[0minterpolation\u001b[0m\u001b[1;33m=\u001b[0m\u001b[0mcv2\u001b[0m\u001b[1;33m.\u001b[0m\u001b[0mINTER_LINEAR\u001b[0m\u001b[1;33m)\u001b[0m\u001b[1;33m\u001b[0m\u001b[1;33m\u001b[0m\u001b[0m\n\u001b[0m\u001b[0;32m      2\u001b[0m \u001b[0mresized_screen2\u001b[0m \u001b[1;33m=\u001b[0m \u001b[0mcv2\u001b[0m\u001b[1;33m.\u001b[0m\u001b[0mresize\u001b[0m\u001b[1;33m(\u001b[0m\u001b[0ms\u001b[0m\u001b[1;33m,\u001b[0m \u001b[1;33m(\u001b[0m\u001b[1;36m84\u001b[0m\u001b[1;33m,\u001b[0m \u001b[1;36m84\u001b[0m\u001b[1;33m)\u001b[0m\u001b[1;33m,\u001b[0m  \u001b[0minterpolation\u001b[0m\u001b[1;33m=\u001b[0m\u001b[0mcv2\u001b[0m\u001b[1;33m.\u001b[0m\u001b[0mINTER_LINEAR\u001b[0m\u001b[1;33m)\u001b[0m\u001b[1;33m\u001b[0m\u001b[1;33m\u001b[0m\u001b[0m\n\u001b[0;32m      3\u001b[0m \u001b[1;33m\u001b[0m\u001b[0m\n\u001b[0;32m      4\u001b[0m \u001b[0mprint\u001b[0m\u001b[1;33m(\u001b[0m\u001b[0mresized_screen\u001b[0m\u001b[1;33m.\u001b[0m\u001b[0mshape\u001b[0m\u001b[1;33m)\u001b[0m\u001b[1;33m\u001b[0m\u001b[1;33m\u001b[0m\u001b[0m\n\u001b[0;32m      5\u001b[0m \u001b[0mprint\u001b[0m\u001b[1;33m(\u001b[0m\u001b[0mresized_screen2\u001b[0m\u001b[1;33m.\u001b[0m\u001b[0mshape\u001b[0m\u001b[1;33m)\u001b[0m\u001b[1;33m\u001b[0m\u001b[1;33m\u001b[0m\u001b[0m\n",
      "\u001b[1;31mNameError\u001b[0m: name 's' is not defined"
     ]
    }
   ],
   "source": [
    "resized_screen = cv2.resize(s, (84, 110),  interpolation=cv2.INTER_LINEAR)\n",
    "resized_screen2 = cv2.resize(s, (84, 84),  interpolation=cv2.INTER_LINEAR)\n",
    "\n",
    "print(resized_screen.shape)\n",
    "print(resized_screen2.shape)\n",
    "x_t = resized_screen[18:102, :]"
   ]
  },
  {
   "cell_type": "code",
   "execution_count": null,
   "metadata": {},
   "outputs": [],
   "source": [
    "Image.fromarray(s)"
   ]
  },
  {
   "cell_type": "code",
   "execution_count": 14,
   "metadata": {},
   "outputs": [],
   "source": [
    "env = gym.make('Pong-v0')\n",
    "\n",
    "s = env.reset()\n",
    "ns, _, _, _ = env.step(1)"
   ]
  },
  {
   "cell_type": "code",
   "execution_count": 26,
   "metadata": {},
   "outputs": [],
   "source": [
    "aa = np.maximum.reduce([s, ns])"
   ]
  },
  {
   "cell_type": "code",
   "execution_count": 27,
   "metadata": {},
   "outputs": [],
   "source": [
    "bb = np.maximum(s, ns)"
   ]
  },
  {
   "cell_type": "code",
   "execution_count": 28,
   "metadata": {},
   "outputs": [
    {
     "data": {
      "text/plain": [
       "100800"
      ]
     },
     "execution_count": 28,
     "metadata": {},
     "output_type": "execute_result"
    }
   ],
   "source": [
    "np.sum(aa==bb)"
   ]
  },
  {
   "cell_type": "code",
   "execution_count": 31,
   "metadata": {},
   "outputs": [
    {
     "data": {
      "text/plain": [
       "100800"
      ]
     },
     "execution_count": 31,
     "metadata": {},
     "output_type": "execute_result"
    }
   ],
   "source": [
    "210*160*3"
   ]
  },
  {
   "cell_type": "code",
   "execution_count": 2,
   "metadata": {},
   "outputs": [
    {
     "data": {
      "text/plain": [
       "array([1., 0.])"
      ]
     },
     "execution_count": 2,
     "metadata": {},
     "output_type": "execute_result"
    }
   ],
   "source": [
    "a = []\n",
    "a.append(np.ones((5,)))\n",
    "a.append(np.zeros((5,)))\n",
    "np.amax(a, axis = 1)"
   ]
  },
  {
   "cell_type": "code",
   "execution_count": 5,
   "metadata": {},
   "outputs": [
    {
     "ename": "AttributeError",
     "evalue": "'list' object has no attribute 'shape'",
     "output_type": "error",
     "traceback": [
      "\u001b[1;31m---------------------------------------------------------------------------\u001b[0m",
      "\u001b[1;31mAttributeError\u001b[0m                            Traceback (most recent call last)",
      "\u001b[1;32m<ipython-input-5-d74f1bcdd37c>\u001b[0m in \u001b[0;36m<module>\u001b[1;34m\u001b[0m\n\u001b[1;32m----> 1\u001b[1;33m \u001b[0ma\u001b[0m\u001b[1;33m.\u001b[0m\u001b[0mshape\u001b[0m\u001b[1;33m\u001b[0m\u001b[1;33m\u001b[0m\u001b[0m\n\u001b[0m",
      "\u001b[1;31mAttributeError\u001b[0m: 'list' object has no attribute 'shape'"
     ]
    }
   ],
   "source": [
    "a.shape"
   ]
  },
  {
   "cell_type": "code",
   "execution_count": null,
   "metadata": {},
   "outputs": [],
   "source": []
  },
  {
   "cell_type": "code",
   "execution_count": null,
   "metadata": {},
   "outputs": [],
   "source": [
    "def categorical_algorithm():  # batch _x, batch_a  batch_r, batch_next_x      as input\n",
    "    \n",
    "    \n",
    "\n",
    "    \n",
    "    "
   ]
  },
  {
   "cell_type": "code",
   "execution_count": null,
   "metadata": {},
   "outputs": [],
   "source": []
  },
  {
   "cell_type": "code",
   "execution_count": null,
   "metadata": {},
   "outputs": [],
   "source": []
  },
  {
   "cell_type": "code",
   "execution_count": 29,
   "metadata": {},
   "outputs": [],
   "source": [
    "np.random.seed(1)\n",
    "ex1 = np.random.randn(10,6)\n",
    "ex2 = np.random.randn(10,6)"
   ]
  },
  {
   "cell_type": "code",
   "execution_count": 40,
   "metadata": {},
   "outputs": [
    {
     "name": "stdout",
     "output_type": "stream",
     "text": [
      "[1.8613412 1.8246422 1.8025628 1.7954124 1.7774705 1.7971946 1.8494828\n",
      " 1.8347857 1.8248883 1.8146741] [1.8613412 1.8246422 1.8025628 1.7954124 1.7774705 1.7971946 1.8494828\n",
      " 1.8347857 1.8248883 1.8146741]\n",
      "[0. 0. 0. 0. 0. 0. 0. 0. 0. 0.]\n"
     ]
    }
   ],
   "source": [
    "with tf.Session() as sess:\n",
    "    i1 = tf.placeholder(tf.float32, shape=[None,6]) # logits true\n",
    "    i2 = tf.placeholder(tf.float32, shape=[None,6]) # labels pred\n",
    "\n",
    "    e1 = tf.nn.softmax(i1)\n",
    "    e2 = tf.nn.softmax(i2)\n",
    "    \n",
    "    v1 = tf.nn.softmax_cross_entropy_with_logits_v2(e2, e1)\n",
    "    v2 = -tf.reduce_sum(e1*tf.log(e2))\n",
    "    \n",
    "    re1 = sess.run(v1, feed_dict={i1:ex1, i2:ex2})\n",
    "    re2 = sess.run(v1, feed_dict={i1:ex1, i2:ex2})\n",
    "    \n",
    "    print(re1, re2)\n",
    "    print(re1-re2)"
   ]
  },
  {
   "cell_type": "code",
   "execution_count": null,
   "metadata": {},
   "outputs": [],
   "source": []
  },
  {
   "cell_type": "code",
   "execution_count": null,
   "metadata": {},
   "outputs": [],
   "source": []
  },
  {
   "cell_type": "code",
   "execution_count": null,
   "metadata": {},
   "outputs": [],
   "source": []
  },
  {
   "cell_type": "code",
   "execution_count": null,
   "metadata": {},
   "outputs": [],
   "source": []
  },
  {
   "cell_type": "code",
   "execution_count": 26,
   "metadata": {},
   "outputs": [
    {
     "name": "stdout",
     "output_type": "stream",
     "text": [
      "[[[0.11165489 0.00555897 0.01511084 0.00555897 0.30350944 0.11165489\n",
      "   0.00555897 0.00555897 0.30350944 0.01511084 0.00555897 0.11165489]\n",
      "  [0.3254565  0.11972876 0.01620352 0.3254565  0.04404575 0.01620352\n",
      "   0.01620352 0.04404575 0.01620352 0.01620352 0.01620352 0.04404575]\n",
      "  [0.00440179 0.03252509 0.00440179 0.00440179 0.24032973 0.24032973\n",
      "   0.01196531 0.08841237 0.08841237 0.03252509 0.24032973 0.01196531]]\n",
      "\n",
      " [[0.06759773 0.06759773 0.02486782 0.00914836 0.18374969 0.18374969\n",
      "   0.06759773 0.06759773 0.06759773 0.18374969 0.00914836 0.06759773]\n",
      "  [0.18899569 0.18899569 0.02557779 0.02557779 0.00940954 0.06952763\n",
      "   0.02557779 0.00940954 0.06952763 0.18899569 0.00940954 0.18899569]\n",
      "  [0.0048862  0.0048862  0.26677743 0.26677743 0.0361044  0.0048862\n",
      "   0.09814193 0.0048862  0.0048862  0.0048862  0.0361044  0.26677743]]] (2, 3, 12)\n"
     ]
    }
   ],
   "source": [
    "with tf.Session() as sess:\n",
    "\n",
    "    a1 = tf.placeholder(tf.int32, shape=[None,3,12])\n",
    "    aa = tf.nn.softmax(a)\n",
    "    \n",
    "    bbbb = sess.run(aa, feed_dict={a1:a})\n",
    "    print(bbbb, bbbb.shape)"
   ]
  },
  {
   "cell_type": "code",
   "execution_count": null,
   "metadata": {},
   "outputs": [],
   "source": []
  },
  {
   "cell_type": "code",
   "execution_count": 22,
   "metadata": {},
   "outputs": [
    {
     "data": {
      "text/plain": [
       "(2, 3, 12)"
      ]
     },
     "execution_count": 22,
     "metadata": {},
     "output_type": "execute_result"
    }
   ],
   "source": [
    "np.random.seed(5)\n",
    "a = np.random.randint(5, size = (2,3,12)).astype('float32')\n",
    "a.shape"
   ]
  },
  {
   "cell_type": "code",
   "execution_count": 3,
   "metadata": {},
   "outputs": [
    {
     "data": {
      "text/plain": [
       "array([[[3, 0, 1, 0],\n",
       "        [4, 3, 0, 0],\n",
       "        [4, 1, 0, 3]],\n",
       "\n",
       "       [[4, 3, 1, 4],\n",
       "        [2, 1, 1, 2],\n",
       "        [1, 1, 1, 2]]])"
      ]
     },
     "execution_count": 3,
     "metadata": {},
     "output_type": "execute_result"
    }
   ],
   "source": [
    "b = a.reshape(2,3,4)\n",
    "b"
   ]
  },
  {
   "cell_type": "code",
   "execution_count": 7,
   "metadata": {},
   "outputs": [
    {
     "data": {
      "text/plain": [
       "array([[3, 0, 1, 0, 4, 3, 0, 0, 4, 1, 0, 3],\n",
       "       [4, 3, 1, 4, 2, 1, 1, 2, 1, 1, 1, 2]])"
      ]
     },
     "execution_count": 7,
     "metadata": {},
     "output_type": "execute_result"
    }
   ],
   "source": [
    "a"
   ]
  },
  {
   "cell_type": "code",
   "execution_count": 6,
   "metadata": {},
   "outputs": [
    {
     "data": {
      "text/plain": [
       "array([[0.11165488, 0.00555897, 0.01511084, 0.00555897, 0.30350942,\n",
       "        0.11165488, 0.00555897, 0.00555897, 0.30350942, 0.01511084,\n",
       "        0.00555897, 0.11165488],\n",
       "       [0.32545645, 0.11972874, 0.01620352, 0.32545645, 0.04404574,\n",
       "        0.01620352, 0.01620352, 0.04404574, 0.01620352, 0.01620352,\n",
       "        0.01620352, 0.04404574]])"
      ]
     },
     "execution_count": 6,
     "metadata": {},
     "output_type": "execute_result"
    }
   ],
   "source": [
    "np.exp(a)/np.sum(np.exp(a), axis = 1).reshape(2, -1)"
   ]
  },
  {
   "cell_type": "code",
   "execution_count": 47,
   "metadata": {},
   "outputs": [
    {
     "data": {
      "text/plain": [
       "array([[[-1.],\n",
       "        [-1.],\n",
       "        [-1.]],\n",
       "\n",
       "       [[-1.],\n",
       "        [-1.],\n",
       "        [-1.]]])"
      ]
     },
     "execution_count": 47,
     "metadata": {},
     "output_type": "execute_result"
    }
   ],
   "source": [
    "c = -np.ones((2,3,1))\n",
    "c"
   ]
  },
  {
   "cell_type": "code",
   "execution_count": 48,
   "metadata": {},
   "outputs": [
    {
     "data": {
      "text/plain": [
       "array([[[-3., -0., -1., -0.],\n",
       "        [-4., -3., -0., -0.],\n",
       "        [-4., -1., -0., -3.]],\n",
       "\n",
       "       [[-4., -3., -1., -4.],\n",
       "        [-2., -1., -1., -2.],\n",
       "        [-1., -1., -1., -2.]]])"
      ]
     },
     "execution_count": 48,
     "metadata": {},
     "output_type": "execute_result"
    }
   ],
   "source": [
    "b*c"
   ]
  },
  {
   "cell_type": "code",
   "execution_count": 20,
   "metadata": {},
   "outputs": [
    {
     "name": "stdout",
     "output_type": "stream",
     "text": [
      "[[4.]\n",
      " [4.]\n",
      " [1.]\n",
      " [0.]\n",
      " [4.]] (5, 1)\n",
      "\n",
      "aa, ee (3, 6, 5) (18, 5)\n",
      "aa [[[3 4 0 1 3]\n",
      "  [0 0 1 4 4]\n",
      "  [1 2 4 2 4]\n",
      "  [3 4 2 4 2]\n",
      "  [4 1 1 0 1]\n",
      "  [1 1 1 0 4]]\n",
      "\n",
      " [[1 0 0 3 2]\n",
      "  [1 0 3 1 1]\n",
      "  [3 4 0 1 3]\n",
      "  [4 2 4 0 3]\n",
      "  [1 2 0 4 1]\n",
      "  [2 2 1 0 1]]\n",
      "\n",
      " [[3 4 3 1 3]\n",
      "  [0 0 2 2 1]\n",
      "  [3 4 2 0 0]\n",
      "  [1 1 3 0 0]\n",
      "  [4 2 4 3 3]\n",
      "  [0 3 4 3 4]]] (3, 6, 5)\n",
      "bb [4 4 1 0 4] (5,)\n",
      "c (18, 1)\n"
     ]
    }
   ],
   "source": [
    "np.random.seed(1)\n",
    "aa = np.random.randint(5, size = (3,6,5))\n",
    "bb = np.random.randint(5, size = (5,))\n",
    "\n",
    "with tf.Session() as sess:\n",
    "    a = tf.placeholder(tf.float32, shape=[None,6,5])\n",
    "    b = tf.placeholder(tf.float32, shape=[None])\n",
    "    dd = tf.reshape(b, [tf.shape(b)[0], -1]) # of shape (5, 1)\n",
    "    ee = tf.reshape(a, [-1, tf.shape(a)[2]]) # of shape (N*6, 5)\n",
    "    \n",
    "    c = tf.matmul(ee, dd)\n",
    "    \n",
    "    ddd = sess.run(dd, feed_dict={b:bb})\n",
    "    eee = sess.run(ee, feed_dict={a:aa})\n",
    "    \n",
    "    print(ddd, ddd.shape)\n",
    "    print()\n",
    "    print('aa, ee', aa.shape, eee.shape)\n",
    "    \n",
    "    results = sess.run(c, feed_dict={a:aa, b:bb})\n",
    "    \n",
    "    print('aa', aa, aa.shape)\n",
    "    print('bb', bb, bb.shape)\n",
    "    print('c', results.shape)\n",
    "    \n",
    "    \n",
    "    \n",
    "    "
   ]
  },
  {
   "cell_type": "code",
   "execution_count": 15,
   "metadata": {},
   "outputs": [
    {
     "name": "stdout",
     "output_type": "stream",
     "text": [
      "[[[3 4 0 1 3]\n",
      "  [0 0 1 4 4]\n",
      "  [1 2 4 2 4]\n",
      "  [3 4 2 4 2]\n",
      "  [4 1 1 0 1]\n",
      "  [1 1 1 0 4]]\n",
      "\n",
      " [[1 0 0 3 2]\n",
      "  [1 0 3 1 1]\n",
      "  [3 4 0 1 3]\n",
      "  [4 2 4 0 3]\n",
      "  [1 2 0 4 1]\n",
      "  [2 2 1 0 1]]\n",
      "\n",
      " [[3 4 3 1 3]\n",
      "  [0 0 2 2 1]\n",
      "  [3 4 2 0 0]\n",
      "  [1 1 3 0 0]\n",
      "  [4 2 4 3 3]\n",
      "  [0 3 4 3 4]]] (3, 6, 5)\n"
     ]
    }
   ],
   "source": [
    "print(aa, aa.shape)"
   ]
  },
  {
   "cell_type": "code",
   "execution_count": 16,
   "metadata": {},
   "outputs": [
    {
     "name": "stdout",
     "output_type": "stream",
     "text": [
      "[4 4 1 0 4] (5,)\n"
     ]
    }
   ],
   "source": [
    "print(bb, bb.shape)"
   ]
  },
  {
   "cell_type": "code",
   "execution_count": 14,
   "metadata": {},
   "outputs": [
    {
     "data": {
      "text/plain": [
       "array([[40., 17., 32., 38., 25., 25.],\n",
       "       [12., 11., 40., 40., 16., 21.],\n",
       "       [43.,  6., 30., 11., 40., 32.]], dtype=float32)"
      ]
     },
     "execution_count": 14,
     "metadata": {},
     "output_type": "execute_result"
    }
   ],
   "source": [
    "results2 = results.reshape(3,6)\n",
    "results2"
   ]
  },
  {
   "cell_type": "code",
   "execution_count": 18,
   "metadata": {},
   "outputs": [
    {
     "data": {
      "text/plain": [
       "17"
      ]
     },
     "execution_count": 18,
     "metadata": {},
     "output_type": "execute_result"
    }
   ],
   "source": [
    "np.dot(np.array([4, 4, 1, 0, 4]), np.array([0, 0, 1, 4, 4]))"
   ]
  },
  {
   "cell_type": "code",
   "execution_count": null,
   "metadata": {},
   "outputs": [],
   "source": []
  },
  {
   "cell_type": "code",
   "execution_count": null,
   "metadata": {},
   "outputs": [],
   "source": [
    "tzhat_prob2 = np.sum(np.clip(1 - np.abs((np.clip(new_support, -10, 10) - support[0]))/5, 0, 1)*z_x2_a0)\n"
   ]
  },
  {
   "cell_type": "code",
   "execution_count": null,
   "metadata": {},
   "outputs": [],
   "source": []
  },
  {
   "cell_type": "code",
   "execution_count": 63,
   "metadata": {},
   "outputs": [
    {
     "data": {
      "text/plain": [
       "[0.0, 0.29400000000000004, 0.30299999999999994, 0.20400000000000001, 0.199]"
      ]
     },
     "execution_count": 63,
     "metadata": {},
     "output_type": "execute_result"
    }
   ],
   "source": []
  },
  {
   "cell_type": "code",
   "execution_count": 44,
   "metadata": {},
   "outputs": [
    {
     "name": "stdout",
     "output_type": "stream",
     "text": [
      "[-4.9   0.05  5.    9.95 14.9 ]\n",
      "[-4.9   0.05  5.    9.95 10.  ]\n"
     ]
    }
   ],
   "source": [
    "print(new_support)\n",
    "ns = np.clip(new_support, -10, 10)\n",
    "print(ns)"
   ]
  },
  {
   "cell_type": "code",
   "execution_count": null,
   "metadata": {},
   "outputs": [],
   "source": []
  },
  {
   "cell_type": "code",
   "execution_count": 3,
   "metadata": {},
   "outputs": [],
   "source": [
    "env = gym.make('Pong-v0')"
   ]
  },
  {
   "cell_type": "code",
   "execution_count": 5,
   "metadata": {},
   "outputs": [],
   "source": [
    "class C51(object):\n",
    "    def __init__(self, num_actions, num_heads, lr, mini_batch, opt, clipping, arch, gamma):\n",
    "        \n",
    "        self.num_heads = num_heads\n",
    "        super(C51, self).__init__(num_actions, lr, mini_batch, opt, clipping, arch, gamma)\n",
    "        \n",
    "    def c51_model(self, network):\n",
    "        state = tf.placeholder(tf.float32, [None, 84, 84, 4])\n",
    "        action = tf.placeholder(tf.int32, [None])\n",
    "        q_val =  tf.placeholder(tf.float32, [None])\n",
    "        batch_size = tf.placeholder(tf.int32, shape = None)\n",
    "              \n",
    "        with tf.variable_scope(network):\n",
    "            with tf.variable_scope('conv'):\n",
    "                conv1 = tf.contrib.layers.conv2d(state, num_outputs = 32, kernel_size = 8, stride = 4)\n",
    "                conv2 = tf.contrib.layers.conv2d(conv1, num_outputs = 64, kernel_size = 4, stride = 2)\n",
    "                conv3 = tf.contrib.layers.conv2d(conv2, num_outputs = 64, kernel_size = 3, stride = 1)\n",
    "                \n",
    "            conv3_flatten = tf.contrib.layers.flatten(conv3)\n",
    "                \n",
    "            with tf.variable_scope('fc'):\n",
    "                fc1 = tf.contrib.layers.fully_connected(conv3_flatten, 512)\n",
    "                out = tf.contrib.layers.fully_connected(fc1, self.num_actions, activation_fn=None)\n",
    "                \n",
    "        greedy_idx = tf.argmax(out, axis = 1)\n",
    "        greedy_action = tf.reduce_max(out, axis = 1)\n",
    "        \n",
    "        if network == 'online':\n",
    "            est_q = tf.gather_nd(out, tf.transpose([tf.range(batch_size), action])) # of shape (N, )\n",
    "            return state, action, q_val, est_q, batch_size, greedy_idx, greedy_action\n",
    "        elif network == 'target':\n",
    "            return state, greedy_action\n",
    "        else:\n",
    "            print('inappropriate network')\n",
    "            raise"
   ]
  },
  {
   "cell_type": "code",
   "execution_count": null,
   "metadata": {},
   "outputs": [],
   "source": [
    "def "
   ]
  },
  {
   "cell_type": "code",
   "execution_count": null,
   "metadata": {},
   "outputs": [],
   "source": []
  },
  {
   "cell_type": "code",
   "execution_count": null,
   "metadata": {},
   "outputs": [],
   "source": []
  },
  {
   "cell_type": "code",
   "execution_count": null,
   "metadata": {},
   "outputs": [],
   "source": []
  },
  {
   "cell_type": "code",
   "execution_count": null,
   "metadata": {},
   "outputs": [],
   "source": []
  },
  {
   "cell_type": "code",
   "execution_count": null,
   "metadata": {},
   "outputs": [],
   "source": []
  },
  {
   "cell_type": "code",
   "execution_count": null,
   "metadata": {},
   "outputs": [],
   "source": []
  },
  {
   "cell_type": "code",
   "execution_count": null,
   "metadata": {},
   "outputs": [],
   "source": []
  },
  {
   "cell_type": "code",
   "execution_count": null,
   "metadata": {},
   "outputs": [],
   "source": []
  },
  {
   "cell_type": "code",
   "execution_count": null,
   "metadata": {},
   "outputs": [],
   "source": []
  },
  {
   "cell_type": "code",
   "execution_count": null,
   "metadata": {},
   "outputs": [],
   "source": []
  },
  {
   "cell_type": "code",
   "execution_count": null,
   "metadata": {},
   "outputs": [],
   "source": []
  },
  {
   "cell_type": "code",
   "execution_count": 8,
   "metadata": {},
   "outputs": [],
   "source": [
    "from main import *"
   ]
  },
  {
   "cell_type": "code",
   "execution_count": 9,
   "metadata": {},
   "outputs": [
    {
     "name": "stdout",
     "output_type": "stream",
     "text": [
      "\n",
      "Start training DQN\n",
      "\n",
      "Episode 1: reward -20, loss  0, epsilon 0.99888, steps 1244, total steps 1244\n",
      "time (minutes) : 0\n",
      "\n",
      "Episode 11: reward -21, loss  0, epsilon 0.988781, steps 1066, total steps 12465\n",
      "time (minutes) : 0\n",
      "\n",
      "Episode 21: reward -21, loss  0, epsilon 0.978019, steps 1212, total steps 24423\n",
      "time (minutes) : 0\n",
      "\n",
      "Episode 31: reward -20, loss  0, epsilon 0.967285, steps 1521, total steps 36350\n",
      "time (minutes) : 0\n",
      "\n",
      "Episode 41: reward -21, loss  0, epsilon 0.956618, steps 1028, total steps 48202\n",
      "time (minutes) : 0\n",
      "\n",
      "Episode 51: reward -20, loss 177.232, epsilon 0.945302, steps 1298, total steps 60775\n",
      "time (minutes) : 6\n",
      "\n",
      "Episode 61: reward -19, loss 77.4605, epsilon 0.934265, steps 1385, total steps 73039\n",
      "time (minutes) : 12\n",
      "\n",
      "Episode 71: reward -21, loss 61.0595, epsilon 0.923417, steps 1115, total steps 85092\n",
      "time (minutes) : 17\n",
      "\n",
      "Episode 81: reward -21, loss 57.8007, epsilon 0.912452, steps 1265, total steps 97276\n",
      "time (minutes) : 24\n",
      "\n",
      "Episode 91: reward -21, loss 49.4744, epsilon 0.901743, steps 1119, total steps 109174\n",
      "time (minutes) : 29\n",
      "\n",
      "Episode 101: reward -21, loss 42.5764, epsilon 0.890986, steps 1026, total steps 121126\n",
      "time (minutes) : 35\n",
      "\n",
      "Episode 111: reward -19, loss 50.156, epsilon 0.8798, steps 1348, total steps 133555\n",
      "time (minutes) : 41\n",
      "\n",
      "Episode 121: reward -21, loss 41.3552, epsilon 0.869343, steps 1010, total steps 145174\n",
      "time (minutes) : 47\n",
      "\n",
      "Episode 131: reward -20, loss 52.4337, epsilon 0.858393, steps 1158, total steps 157341\n",
      "time (minutes) : 53\n",
      "\n",
      "Episode 141: reward -21, loss 41.4705, epsilon 0.848333, steps 1016, total steps 168519\n",
      "time (minutes) : 59\n",
      "\n",
      "Episode 151: reward -21, loss 52.406, epsilon 0.837306, steps 1212, total steps 180771\n",
      "time (minutes) : 65\n",
      "\n",
      "Episode 161: reward -20, loss 48.8412, epsilon 0.826944, steps 1148, total steps 192284\n",
      "time (minutes) : 71\n",
      "\n",
      "Episode 171: reward -21, loss 45.8193, epsilon 0.81582, steps 1103, total steps 204644\n",
      "time (minutes) : 77\n",
      "\n",
      "Episode 181: reward -20, loss 50.9265, epsilon 0.804626, steps 1415, total steps 217082\n",
      "time (minutes) : 83\n",
      "\n",
      "Episode 191: reward -21, loss 39.0557, epsilon 0.794182, steps 1075, total steps 228686\n",
      "time (minutes) : 89\n",
      "\n",
      "Episode 201: reward -21, loss 36.4468, epsilon 0.783139, steps 1020, total steps 240956\n",
      "time (minutes) : 95\n",
      "\n",
      "Episode 211: reward -21, loss 41.499, epsilon 0.772915, steps 1131, total steps 252316\n",
      "time (minutes) : 102\n",
      "\n",
      "Episode 221: reward -20, loss 38.659, epsilon 0.76167, steps 1279, total steps 264811\n",
      "time (minutes) : 109\n",
      "\n",
      "Episode 231: reward -21, loss 43.121, epsilon 0.750845, steps 1211, total steps 276839\n",
      "time (minutes) : 116\n",
      "\n",
      "Episode 241: reward -21, loss 51.3272, epsilon 0.739195, steps 1269, total steps 289783\n",
      "time (minutes) : 124\n",
      "\n",
      "Episode 251: reward -21, loss 31.8893, epsilon 0.7288, steps 1039, total steps 301333\n",
      "time (minutes) : 131\n",
      "WARNING:tensorflow:From C:\\Users\\user\\Anaconda3\\envs\\ml\\lib\\site-packages\\tensorflow\\python\\training\\saver.py:966: remove_checkpoint (from tensorflow.python.training.checkpoint_management) is deprecated and will be removed in a future version.\n",
      "Instructions for updating:\n",
      "Use standard file APIs to delete files with this prefix.\n",
      "\n",
      "Episode 261: reward -21, loss 42.4162, epsilon 0.717904, steps 1187, total steps 313440\n",
      "time (minutes) : 139\n",
      "\n",
      "Episode 271: reward -21, loss 36.9933, epsilon 0.707076, steps 1186, total steps 325471\n",
      "time (minutes) : 147\n",
      "\n",
      "Episode 281: reward -21, loss 48.9879, epsilon 0.696073, steps 1247, total steps 337696\n",
      "time (minutes) : 155\n",
      "\n",
      "Episode 291: reward -21, loss 36.2409, epsilon 0.685031, steps 1110, total steps 349965\n",
      "time (minutes) : 163\n",
      "\n",
      "Episode 301: reward -21, loss 35.5033, epsilon 0.673996, steps 1305, total steps 362226\n",
      "time (minutes) : 172\n",
      "\n",
      "Episode 311: reward -21, loss 39.0026, epsilon 0.662924, steps 1098, total steps 374528\n",
      "time (minutes) : 180\n",
      "\n",
      "Episode 321: reward -19, loss 48.8194, epsilon 0.652295, steps 1344, total steps 386338\n",
      "time (minutes) : 188\n",
      "\n",
      "Episode 331: reward -21, loss 33.6554, epsilon 0.642195, steps 1184, total steps 397561\n",
      "time (minutes) : 197\n",
      "\n",
      "Episode 341: reward -21, loss 41.4, epsilon 0.631587, steps 1190, total steps 409347\n",
      "time (minutes) : 206\n",
      "\n",
      "Episode 351: reward -21, loss 49.1691, epsilon 0.620964, steps 1456, total steps 421151\n",
      "time (minutes) : 216\n",
      "\n",
      "Episode 361: reward -20, loss 33.793, epsilon 0.610404, steps 1239, total steps 432884\n",
      "time (minutes) : 225\n"
     ]
    },
    {
     "ename": "MemoryError",
     "evalue": "",
     "output_type": "error",
     "traceback": [
      "\u001b[1;31m---------------------------------------------------------------------------\u001b[0m",
      "\u001b[1;31mMemoryError\u001b[0m                               Traceback (most recent call last)",
      "\u001b[1;32m<ipython-input-9-9d07c93202ee>\u001b[0m in \u001b[0;36m<module>\u001b[1;34m\u001b[0m\n\u001b[0;32m     23\u001b[0m                             'DQN', 10, 100, True)\n\u001b[0;32m     24\u001b[0m \u001b[1;33m\u001b[0m\u001b[0m\n\u001b[1;32m---> 25\u001b[1;33m \u001b[0mloss_his\u001b[0m\u001b[1;33m,\u001b[0m \u001b[0mreward_his\u001b[0m\u001b[1;33m,\u001b[0m \u001b[0mreward100\u001b[0m\u001b[1;33m,\u001b[0m \u001b[0meval_his\u001b[0m\u001b[1;33m,\u001b[0m \u001b[0mbest_param_list\u001b[0m\u001b[1;33m,\u001b[0m \u001b[0mfinal_var\u001b[0m \u001b[1;33m=\u001b[0m \u001b[0mdqnsolver\u001b[0m\u001b[1;33m.\u001b[0m\u001b[0mtrain\u001b[0m\u001b[1;33m(\u001b[0m\u001b[1;33m)\u001b[0m\u001b[1;33m\u001b[0m\u001b[1;33m\u001b[0m\u001b[0m\n\u001b[0m\u001b[0;32m     26\u001b[0m \u001b[1;33m\u001b[0m\u001b[0m\n",
      "\u001b[1;32m~\\Desktop\\project\\solver\\online.py\u001b[0m in \u001b[0;36mtrain\u001b[1;34m(self)\u001b[0m\n\u001b[0;32m     70\u001b[0m                 \u001b[1;32mif\u001b[0m \u001b[0mstep_count\u001b[0m \u001b[1;33m>\u001b[0m \u001b[0mself\u001b[0m\u001b[1;33m.\u001b[0m\u001b[0mtrain_start\u001b[0m\u001b[1;33m:\u001b[0m\u001b[1;33m\u001b[0m\u001b[1;33m\u001b[0m\u001b[0m\n\u001b[0;32m     71\u001b[0m                     \u001b[1;31m# load training data from memory with mini_batch size(=32)\u001b[0m\u001b[1;33m\u001b[0m\u001b[1;33m\u001b[0m\u001b[1;33m\u001b[0m\u001b[0m\n\u001b[1;32m---> 72\u001b[1;33m                     \u001b[0mbatch_s\u001b[0m\u001b[1;33m,\u001b[0m \u001b[0mbatch_a\u001b[0m\u001b[1;33m,\u001b[0m \u001b[0mbatch_r\u001b[0m\u001b[1;33m,\u001b[0m \u001b[0mbatch_ns\u001b[0m\u001b[1;33m,\u001b[0m \u001b[0mbatch_done\u001b[0m \u001b[1;33m=\u001b[0m \u001b[0mexp_memory\u001b[0m\u001b[1;33m.\u001b[0m\u001b[0msample_ex\u001b[0m\u001b[1;33m(\u001b[0m\u001b[0mstep_count\u001b[0m\u001b[1;33m)\u001b[0m\u001b[1;33m\u001b[0m\u001b[1;33m\u001b[0m\u001b[0m\n\u001b[0m\u001b[0;32m     73\u001b[0m \u001b[1;33m\u001b[0m\u001b[0m\n\u001b[0;32m     74\u001b[0m                     \u001b[1;31m# use fixed target variable to calculate target max_Q\u001b[0m\u001b[1;33m\u001b[0m\u001b[1;33m\u001b[0m\u001b[1;33m\u001b[0m\u001b[0m\n",
      "\u001b[1;32m~\\Desktop\\project\\utils.py\u001b[0m in \u001b[0;36msample_ex\u001b[1;34m(self, step_count, training_type)\u001b[0m\n\u001b[0;32m     89\u001b[0m             \u001b[0mb_idx\u001b[0m \u001b[1;33m=\u001b[0m \u001b[0mnp\u001b[0m\u001b[1;33m.\u001b[0m\u001b[0mrandom\u001b[0m\u001b[1;33m.\u001b[0m\u001b[0mchoice\u001b[0m\u001b[1;33m(\u001b[0m\u001b[0mself\u001b[0m\u001b[1;33m.\u001b[0m\u001b[0mmemory_size\u001b[0m\u001b[1;33m,\u001b[0m \u001b[0mself\u001b[0m\u001b[1;33m.\u001b[0m\u001b[0mbatch_size\u001b[0m\u001b[1;33m)\u001b[0m\u001b[1;33m\u001b[0m\u001b[1;33m\u001b[0m\u001b[0m\n\u001b[0;32m     90\u001b[0m \u001b[1;33m\u001b[0m\u001b[0m\n\u001b[1;32m---> 91\u001b[1;33m         \u001b[0ms_t\u001b[0m\u001b[1;33m,\u001b[0m \u001b[0mnext_s_t\u001b[0m \u001b[1;33m=\u001b[0m \u001b[0mself\u001b[0m\u001b[1;33m.\u001b[0m\u001b[0mstack_frame\u001b[0m\u001b[1;33m(\u001b[0m\u001b[0mb_idx\u001b[0m\u001b[1;33m)\u001b[0m\u001b[1;33m,\u001b[0m \u001b[0mself\u001b[0m\u001b[1;33m.\u001b[0m\u001b[0mstack_frame\u001b[0m\u001b[1;33m(\u001b[0m\u001b[0mb_idx\u001b[0m\u001b[1;33m+\u001b[0m\u001b[1;36m1\u001b[0m\u001b[1;33m)\u001b[0m \u001b[1;31m# each of shape (N,84,84,4), which is input of NN\u001b[0m\u001b[1;33m\u001b[0m\u001b[1;33m\u001b[0m\u001b[0m\n\u001b[0m\u001b[0;32m     92\u001b[0m         \u001b[0ma_t\u001b[0m\u001b[1;33m,\u001b[0m \u001b[0mr_t\u001b[0m\u001b[1;33m,\u001b[0m \u001b[0mdone_t\u001b[0m \u001b[1;33m=\u001b[0m \u001b[0mself\u001b[0m\u001b[1;33m.\u001b[0m\u001b[0mmemory_a_r\u001b[0m\u001b[1;33m[\u001b[0m\u001b[0mb_idx\u001b[0m\u001b[1;33m,\u001b[0m \u001b[1;36m0\u001b[0m\u001b[1;33m]\u001b[0m\u001b[1;33m,\u001b[0m \u001b[0mself\u001b[0m\u001b[1;33m.\u001b[0m\u001b[0mmemory_a_r\u001b[0m\u001b[1;33m[\u001b[0m\u001b[0mb_idx\u001b[0m\u001b[1;33m,\u001b[0m \u001b[1;36m1\u001b[0m\u001b[1;33m]\u001b[0m\u001b[1;33m,\u001b[0m \u001b[0mself\u001b[0m\u001b[1;33m.\u001b[0m\u001b[0mmemory_a_r\u001b[0m\u001b[1;33m[\u001b[0m\u001b[0mb_idx\u001b[0m\u001b[1;33m,\u001b[0m \u001b[1;36m2\u001b[0m\u001b[1;33m]\u001b[0m\u001b[1;33m\u001b[0m\u001b[1;33m\u001b[0m\u001b[0m\n\u001b[0;32m     93\u001b[0m         \u001b[1;32mreturn\u001b[0m \u001b[0ms_t\u001b[0m\u001b[1;33m,\u001b[0m \u001b[0ma_t\u001b[0m\u001b[1;33m,\u001b[0m \u001b[0mr_t\u001b[0m\u001b[1;33m,\u001b[0m \u001b[0mnext_s_t\u001b[0m\u001b[1;33m,\u001b[0m \u001b[0mdone_t\u001b[0m\u001b[1;33m\u001b[0m\u001b[1;33m\u001b[0m\u001b[0m\n",
      "\u001b[1;32m~\\Desktop\\project\\utils.py\u001b[0m in \u001b[0;36mstack_frame\u001b[1;34m(self, b_idx, step_count, batch)\u001b[0m\n\u001b[0;32m     65\u001b[0m         \"\"\" \n\u001b[0;32m     66\u001b[0m         \u001b[1;32mif\u001b[0m \u001b[0mbatch\u001b[0m\u001b[1;33m:\u001b[0m\u001b[1;33m\u001b[0m\u001b[1;33m\u001b[0m\u001b[0m\n\u001b[1;32m---> 67\u001b[1;33m             \u001b[0mout_frame\u001b[0m \u001b[1;33m=\u001b[0m \u001b[0mnp\u001b[0m\u001b[1;33m.\u001b[0m\u001b[0mzeros\u001b[0m\u001b[1;33m(\u001b[0m\u001b[1;33m(\u001b[0m\u001b[0mself\u001b[0m\u001b[1;33m.\u001b[0m\u001b[0mbatch_size\u001b[0m\u001b[1;33m,\u001b[0m \u001b[1;36m84\u001b[0m\u001b[1;33m,\u001b[0m \u001b[1;36m84\u001b[0m\u001b[1;33m,\u001b[0m \u001b[1;36m4\u001b[0m\u001b[1;33m)\u001b[0m\u001b[1;33m)\u001b[0m\u001b[1;33m\u001b[0m\u001b[1;33m\u001b[0m\u001b[0m\n\u001b[0m\u001b[0;32m     68\u001b[0m             \u001b[0mout_frame\u001b[0m\u001b[1;33m[\u001b[0m\u001b[1;33m...\u001b[0m\u001b[1;33m,\u001b[0m \u001b[1;36m0\u001b[0m\u001b[1;33m]\u001b[0m \u001b[1;33m=\u001b[0m \u001b[0mself\u001b[0m\u001b[1;33m.\u001b[0m\u001b[0mmemory_frame\u001b[0m\u001b[1;33m[\u001b[0m\u001b[1;33m(\u001b[0m\u001b[0mb_idx\u001b[0m\u001b[1;33m-\u001b[0m\u001b[1;36m3\u001b[0m\u001b[1;33m+\u001b[0m\u001b[0mself\u001b[0m\u001b[1;33m.\u001b[0m\u001b[0mmemory_size\u001b[0m\u001b[1;33m)\u001b[0m\u001b[1;33m%\u001b[0m\u001b[0mself\u001b[0m\u001b[1;33m.\u001b[0m\u001b[0mmemory_size\u001b[0m\u001b[1;33m]\u001b[0m\u001b[1;33m\u001b[0m\u001b[1;33m\u001b[0m\u001b[0m\n\u001b[0;32m     69\u001b[0m             \u001b[0mout_frame\u001b[0m\u001b[1;33m[\u001b[0m\u001b[1;33m...\u001b[0m\u001b[1;33m,\u001b[0m \u001b[1;36m1\u001b[0m\u001b[1;33m]\u001b[0m \u001b[1;33m=\u001b[0m \u001b[0mself\u001b[0m\u001b[1;33m.\u001b[0m\u001b[0mmemory_frame\u001b[0m\u001b[1;33m[\u001b[0m\u001b[1;33m(\u001b[0m\u001b[0mb_idx\u001b[0m\u001b[1;33m-\u001b[0m\u001b[1;36m2\u001b[0m\u001b[1;33m+\u001b[0m\u001b[0mself\u001b[0m\u001b[1;33m.\u001b[0m\u001b[0mmemory_size\u001b[0m\u001b[1;33m)\u001b[0m\u001b[1;33m%\u001b[0m\u001b[0mself\u001b[0m\u001b[1;33m.\u001b[0m\u001b[0mmemory_size\u001b[0m\u001b[1;33m]\u001b[0m\u001b[1;33m\u001b[0m\u001b[1;33m\u001b[0m\u001b[0m\n",
      "\u001b[1;31mMemoryError\u001b[0m: "
     ]
    },
    {
     "data": {
      "text/plain": [
       "<Figure size 432x288 with 0 Axes>"
      ]
     },
     "metadata": {},
     "output_type": "display_data"
    }
   ],
   "source": [
    "sess = get_session()\n",
    "env = set_seed(6555, 'Pong-v0')\n",
    "action_space = env.action_space.n\n",
    "    \n",
    "algo = model.DQN(num_actions = action_space, num_atoms = 5, lr = 0.00025, \n",
    "                     opt = 'rmsprop', clipping = True, arch = 'DQN')\n",
    "    \n",
    "state, action, q_val, est_q, batch_size, greedy_idx, greedy_action = algo.model('online') # online network\n",
    "pkg1 = (state, action, q_val, est_q, batch_size, greedy_idx, greedy_action)\n",
    "    \n",
    "state_target, max_q_target = algo.model('target') # target network\n",
    "pkg2 = (state_target, max_q_target)\n",
    "mean_loss = algo.dqn_loss(q_val, est_q, loss_type = 'huber') \n",
    "train_step = algo.dqn_optimizer(mean_loss)\n",
    "        \n",
    "var_online = tf.get_collection(tf.GraphKeys.TRAINABLE_VARIABLES, scope= 'online')\n",
    "var_target = tf.get_collection(tf.GraphKeys.TRAINABLE_VARIABLES, scope= 'target')\n",
    "sess.run(tf.global_variables_initializer())\n",
    "    \n",
    "dqnsolver = solver.dqn_online_solver(env, train_step, mean_loss, action_space, var_online, var_target, sess, \n",
    "                            32, 50000, 10000, 50000000, 0.99, \n",
    "                           'linear', 0.99, 500000, pkg1, pkg2,\n",
    "                            'DQN', 10, 100, True)\n",
    "    \n",
    "loss_his, reward_his, reward100, eval_his, best_param_list, final_var = dqnsolver.train()\n",
    "    "
   ]
  },
  {
   "cell_type": "code",
   "execution_count": null,
   "metadata": {},
   "outputs": [],
   "source": [
    "print('')"
   ]
  },
  {
   "cell_type": "code",
   "execution_count": null,
   "metadata": {},
   "outputs": [],
   "source": [
    "import os\n",
    "os.system('shutdown -s')"
   ]
  },
  {
   "cell_type": "code",
   "execution_count": 3,
   "metadata": {},
   "outputs": [
    {
     "ename": "ValueError",
     "evalue": "Range cannot be empty (low >= high) unless no samples are taken",
     "output_type": "error",
     "traceback": [
      "\u001b[1;31m---------------------------------------------------------------------------\u001b[0m",
      "\u001b[1;31mValueError\u001b[0m                                Traceback (most recent call last)",
      "\u001b[1;32m<ipython-input-3-8d776b8cd329>\u001b[0m in \u001b[0;36m<module>\u001b[1;34m\u001b[0m\n\u001b[1;32m----> 1\u001b[1;33m \u001b[0mnp\u001b[0m\u001b[1;33m.\u001b[0m\u001b[0mrandom\u001b[0m\u001b[1;33m.\u001b[0m\u001b[0mrandint\u001b[0m\u001b[1;33m(\u001b[0m\u001b[1;36m5\u001b[0m\u001b[1;33m,\u001b[0m \u001b[1;36m1\u001b[0m\u001b[1;33m)\u001b[0m\u001b[1;33m[\u001b[0m\u001b[1;36m0\u001b[0m\u001b[1;33m]\u001b[0m\u001b[1;33m\u001b[0m\u001b[1;33m\u001b[0m\u001b[0m\n\u001b[0m",
      "\u001b[1;32mmtrand.pyx\u001b[0m in \u001b[0;36mmtrand.RandomState.randint\u001b[1;34m()\u001b[0m\n",
      "\u001b[1;31mValueError\u001b[0m: Range cannot be empty (low >= high) unless no samples are taken"
     ]
    }
   ],
   "source": [
    "np.random.randint(5, 1)[0]"
   ]
  },
  {
   "cell_type": "code",
   "execution_count": 38,
   "metadata": {},
   "outputs": [],
   "source": [
    "env = gym.make('Pong-v0')\n",
    "env = gym.make('PongNoFrameskip-v4')"
   ]
  },
  {
   "cell_type": "code",
   "execution_count": 42,
   "metadata": {},
   "outputs": [
    {
     "name": "stdout",
     "output_type": "stream",
     "text": [
      "12687 6.463428497314453\n"
     ]
    }
   ],
   "source": [
    "import time\n",
    "\n",
    "t1 = time.time()\n",
    "\n",
    "env = gym.make('Pong-v0')\n",
    "\n",
    "env.reset()\n",
    "step = 0\n",
    "for i in range(10):\n",
    "    done = False\n",
    "    env.reset()\n",
    "    \n",
    "    while not done:\n",
    "        #env.render()\n",
    "        next_s_t, r, done, _ = env.step(env.action_space.sample())\n",
    "        step += 1\n",
    "        \n",
    "    #env.close()\n",
    "    \n",
    "t2 = time.time()\n",
    "\n",
    "print(step, t2-t1)"
   ]
  },
  {
   "cell_type": "code",
   "execution_count": 43,
   "metadata": {},
   "outputs": [
    {
     "name": "stdout",
     "output_type": "stream",
     "text": [
      "36383 14.027764320373535\n"
     ]
    }
   ],
   "source": [
    "env = gym.make('PongNoFrameskip-v4')\n",
    "env.reset()\n",
    "step = 0\n",
    "for i in range(10):\n",
    "    done = False\n",
    "    env.reset()\n",
    "    while not done:\n",
    "        #env.render()\n",
    "        next_s_t, r, done, _ = env.step(env.action_space.sample())\n",
    "        step += 1\n",
    "        \n",
    "    #env.close()\n",
    "    \n",
    "t2 = time.time()\n",
    "\n",
    "print(step, t2-t1)"
   ]
  },
  {
   "cell_type": "code",
   "execution_count": null,
   "metadata": {},
   "outputs": [],
   "source": []
  },
  {
   "cell_type": "code",
   "execution_count": 34,
   "metadata": {
    "collapsed": true
   },
   "outputs": [
    {
     "data": {
      "text/plain": [
       "(array([[[  0,   0,   0],\n",
       "         [  0,   0,   0],\n",
       "         [  0,   0,   0],\n",
       "         ...,\n",
       "         [144,  72,  17],\n",
       "         [144,  72,  17],\n",
       "         [144,  72,  17]],\n",
       " \n",
       "        [[144,  72,  17],\n",
       "         [144,  72,  17],\n",
       "         [144,  72,  17],\n",
       "         ...,\n",
       "         [144,  72,  17],\n",
       "         [144,  72,  17],\n",
       "         [144,  72,  17]],\n",
       " \n",
       "        [[144,  72,  17],\n",
       "         [144,  72,  17],\n",
       "         [144,  72,  17],\n",
       "         ...,\n",
       "         [144,  72,  17],\n",
       "         [144,  72,  17],\n",
       "         [144,  72,  17]],\n",
       " \n",
       "        ...,\n",
       " \n",
       "        [[236, 236, 236],\n",
       "         [236, 236, 236],\n",
       "         [236, 236, 236],\n",
       "         ...,\n",
       "         [236, 236, 236],\n",
       "         [236, 236, 236],\n",
       "         [236, 236, 236]],\n",
       " \n",
       "        [[236, 236, 236],\n",
       "         [236, 236, 236],\n",
       "         [236, 236, 236],\n",
       "         ...,\n",
       "         [236, 236, 236],\n",
       "         [236, 236, 236],\n",
       "         [236, 236, 236]],\n",
       " \n",
       "        [[236, 236, 236],\n",
       "         [236, 236, 236],\n",
       "         [236, 236, 236],\n",
       "         ...,\n",
       "         [236, 236, 236],\n",
       "         [236, 236, 236],\n",
       "         [236, 236, 236]]], dtype=uint8), 0.0, False, {'ale.lives': 0})"
      ]
     },
     "execution_count": 34,
     "metadata": {},
     "output_type": "execute_result"
    }
   ],
   "source": [
    "env.step(3)"
   ]
  },
  {
   "cell_type": "code",
   "execution_count": null,
   "metadata": {},
   "outputs": [],
   "source": [
    "32478 34.36485958099365\n",
    "\n",
    "\n",
    "\n",
    "37200 7.452250242233276"
   ]
  },
  {
   "cell_type": "code",
   "execution_count": null,
   "metadata": {},
   "outputs": [],
   "source": [
    "11696 16.47550916671753\n",
    "\n",
    "\n",
    "\n",
    "12339 6.244236707687378\n"
   ]
  },
  {
   "cell_type": "code",
   "execution_count": 40,
   "metadata": {},
   "outputs": [
    {
     "data": {
      "text/plain": [
       "6"
      ]
     },
     "execution_count": 40,
     "metadata": {},
     "output_type": "execute_result"
    }
   ],
   "source": [
    "env.action_space.n"
   ]
  },
  {
   "cell_type": "code",
   "execution_count": null,
   "metadata": {},
   "outputs": [],
   "source": []
  },
  {
   "cell_type": "code",
   "execution_count": null,
   "metadata": {},
   "outputs": [],
   "source": []
  },
  {
   "cell_type": "markdown",
   "metadata": {},
   "source": [
    "# C51"
   ]
  },
  {
   "cell_type": "code",
   "execution_count": 6,
   "metadata": {},
   "outputs": [],
   "source": [
    "def categorical_algorithm():\n",
    "    return None\n",
    "\n",
    "def project_onto_support():\n",
    "    return None\n",
    "\n",
    "# softmax: use tf.nn.softmax"
   ]
  },
  {
   "cell_type": "code",
   "execution_count": 7,
   "metadata": {},
   "outputs": [
    {
     "ename": "NameError",
     "evalue": "name 'z_x_support' is not defined",
     "output_type": "error",
     "traceback": [
      "\u001b[1;31m---------------------------------------------------------------------------\u001b[0m",
      "\u001b[1;31mNameError\u001b[0m                                 Traceback (most recent call last)",
      "\u001b[1;32m<ipython-input-7-fc471daaaa0c>\u001b[0m in \u001b[0;36m<module>\u001b[1;34m\u001b[0m\n\u001b[0;32m     13\u001b[0m \u001b[0mplt\u001b[0m\u001b[1;33m.\u001b[0m\u001b[0mbar\u001b[0m\u001b[1;33m(\u001b[0m\u001b[0msupport\u001b[0m\u001b[1;33m,\u001b[0m \u001b[0mz_x_a0\u001b[0m\u001b[1;33m)\u001b[0m\u001b[1;33m\u001b[0m\u001b[1;33m\u001b[0m\u001b[0m\n\u001b[0;32m     14\u001b[0m \u001b[1;33m\u001b[0m\u001b[0m\n\u001b[1;32m---> 15\u001b[1;33m \u001b[0mnew_support\u001b[0m \u001b[1;33m=\u001b[0m \u001b[0mz_x_support\u001b[0m \u001b[1;33m*\u001b[0m \u001b[0mgamma\u001b[0m \u001b[1;33m+\u001b[0m \u001b[0mrew\u001b[0m\u001b[1;33m\u001b[0m\u001b[1;33m\u001b[0m\u001b[0m\n\u001b[0m\u001b[0;32m     16\u001b[0m \u001b[0mplt\u001b[0m\u001b[1;33m.\u001b[0m\u001b[0mbar\u001b[0m\u001b[1;33m(\u001b[0m\u001b[0mnew_support\u001b[0m\u001b[1;33m,\u001b[0m \u001b[0mz_x2_a0\u001b[0m\u001b[1;33m,\u001b[0m \u001b[0mwidth\u001b[0m \u001b[1;33m=\u001b[0m \u001b[1;36m0.4\u001b[0m\u001b[1;33m)\u001b[0m\u001b[1;33m\u001b[0m\u001b[1;33m\u001b[0m\u001b[0m\n\u001b[0;32m     17\u001b[0m \u001b[1;33m\u001b[0m\u001b[0m\n",
      "\u001b[1;31mNameError\u001b[0m: name 'z_x_support' is not defined"
     ]
    },
    {
     "data": {
      "image/png": "[encoded data removed]",
      "text/plain": [
       "<Figure size 432x288 with 1 Axes>"
      ]
     },
     "metadata": {
      "needs_background": "light"
     },
     "output_type": "display_data"
    }
   ],
   "source": [
    "# eq 7, which is the same as categorical algorithm below\n",
    "\n",
    "np.random.seed(7701)\n",
    "z_x_a0 = np.array([0.1, 0.25, 0.25, 0.3, 0.1]) # of shape (5,), N = 5\n",
    "vmax = 10\n",
    "vmin = -vmax\n",
    "\n",
    "z_x2_a0 = np.array([0.3, 0.3, 0.2, 0.1, 0.1])\n",
    "gamma = 0.99\n",
    "rew = 5\n",
    "\n",
    "support = np.array([-10, -5, 0, 5, 10])\n",
    "plt.bar(support, z_x_a0)\n",
    "\n",
    "new_support = z_x_support * gamma + rew\n",
    "plt.bar(new_support, z_x2_a0, width = 0.4)\n",
    "\n",
    "tzhat_prob0 = np.sum(np.clip(1 - np.abs((np.clip(new_support, -10, 10) - support[0]))/5, 0, 1)*z_x2_a0)\n",
    "tzhat_prob1 = np.sum(np.clip(1 - np.abs((np.clip(new_support, -10, 10) - support[1]))/5, 0, 1)*z_x2_a0)\n",
    "tzhat_prob2 = np.sum(np.clip(1 - np.abs((np.clip(new_support, -10, 10) - support[2]))/5, 0, 1)*z_x2_a0)\n",
    "tzhat_prob3 = np.sum(np.clip(1 - np.abs((np.clip(new_support, -10, 10) - support[3]))/5, 0, 1)*z_x2_a0)\n",
    "tzhat_prob4 = np.sum(np.clip(1 - np.abs((np.clip(new_support, -10, 10) - support[4]))/5, 0, 1)*z_x2_a0)\n",
    "\n",
    "new_prob = [tzhat_prob0, tzhat_prob1, tzhat_prob2, tzhat_prob3, tzhat_prob4]\n",
    "\n",
    "plt.bar(support, [tzhat_prob0, tzhat_prob1, tzhat_prob2, tzhat_prob3, tzhat_prob4], width = 0.2)\n",
    "plt.show()\n",
    "\n",
    "#plt.bar(support, z_x_a0)\n",
    "#plt.bar(new_support, z_x2_a0, width = 0.4)\n",
    "#plt.bar(support, new_prob, width = 0.2)\n",
    "#plt.show()\n",
    "print('new support',new_support)\n",
    "print('new_prob',new_prob, np.sum(new_prob))"
   ]
  },
  {
   "cell_type": "code",
   "execution_count": 8,
   "metadata": {},
   "outputs": [
    {
     "ename": "NameError",
     "evalue": "name 'new_support' is not defined",
     "output_type": "error",
     "traceback": [
      "\u001b[1;31m---------------------------------------------------------------------------\u001b[0m",
      "\u001b[1;31mNameError\u001b[0m                                 Traceback (most recent call last)",
      "\u001b[1;32m<ipython-input-8-c9c0b8eec0db>\u001b[0m in \u001b[0;36m<module>\u001b[1;34m\u001b[0m\n\u001b[0;32m      1\u001b[0m \u001b[1;31m# categorical\u001b[0m\u001b[1;33m\u001b[0m\u001b[1;33m\u001b[0m\u001b[1;33m\u001b[0m\u001b[0m\n\u001b[0;32m      2\u001b[0m \u001b[1;33m\u001b[0m\u001b[0m\n\u001b[1;32m----> 3\u001b[1;33m \u001b[0mcc\u001b[0m \u001b[1;33m=\u001b[0m \u001b[1;33m(\u001b[0m\u001b[0mnp\u001b[0m\u001b[1;33m.\u001b[0m\u001b[0mclip\u001b[0m\u001b[1;33m(\u001b[0m\u001b[0mnew_support\u001b[0m\u001b[1;33m,\u001b[0m \u001b[1;33m-\u001b[0m\u001b[1;36m10\u001b[0m\u001b[1;33m,\u001b[0m \u001b[1;36m10\u001b[0m\u001b[1;33m)\u001b[0m \u001b[1;33m+\u001b[0m \u001b[1;36m10\u001b[0m\u001b[1;33m)\u001b[0m\u001b[1;33m/\u001b[0m\u001b[1;36m5\u001b[0m\u001b[1;33m\u001b[0m\u001b[1;33m\u001b[0m\u001b[0m\n\u001b[0m\u001b[0;32m      4\u001b[0m \u001b[0mprint\u001b[0m\u001b[1;33m(\u001b[0m\u001b[0mcc\u001b[0m\u001b[1;33m)\u001b[0m\u001b[1;33m\u001b[0m\u001b[1;33m\u001b[0m\u001b[0m\n\u001b[0;32m      5\u001b[0m \u001b[0mcc2\u001b[0m \u001b[1;33m=\u001b[0m \u001b[0mcc\u001b[0m\u001b[1;33m.\u001b[0m\u001b[0mastype\u001b[0m\u001b[1;33m(\u001b[0m\u001b[1;34m'int'\u001b[0m\u001b[1;33m)\u001b[0m\u001b[1;33m\u001b[0m\u001b[1;33m\u001b[0m\u001b[0m\n",
      "\u001b[1;31mNameError\u001b[0m: name 'new_support' is not defined"
     ]
    }
   ],
   "source": [
    "# categorical \n",
    "\n",
    "cc = (np.clip(new_support, -10, 10) + 10)/5\n",
    "print(cc)\n",
    "cc2 = cc.astype('int')\n",
    "print(cc)\n",
    "l = cc2\n",
    "u = cc2+1\n",
    "u[2] = 3\n",
    "u[4] = 4\n",
    "print(l, u)\n",
    "\n",
    "print('new_prob 0', (2-1.02)*0.3)"
   ]
  },
  {
   "cell_type": "code",
   "execution_count": null,
   "metadata": {},
   "outputs": [],
   "source": []
  }
 ],
 "metadata": {
  "kernelspec": {
   "display_name": "Python 3",
   "language": "python",
   "name": "python3"
  },
  "language_info": {
   "codemirror_mode": {
    "name": "ipython",
    "version": 3
   },
   "file_extension": ".py",
   "mimetype": "text/x-python",
   "name": "python",
   "nbconvert_exporter": "python",
   "pygments_lexer": "ipython3",
   "version": "3.6.8"
  }
 },
 "nbformat": 4,
 "nbformat_minor": 2
}
